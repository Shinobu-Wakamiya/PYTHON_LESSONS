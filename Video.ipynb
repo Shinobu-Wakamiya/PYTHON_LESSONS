{
 "cells": [
  {
   "cell_type": "code",
   "execution_count": 20,
   "id": "c66fba04-8c82-4677-9960-6d46e32bc878",
   "metadata": {},
   "outputs": [],
   "source": [
    "#command mode: orange: editing with the cell\n",
    "#edit mode: blue: editing in the cell\n",
    "#command->edit : press enter\n",
    "#edit->command : press ESC\n",
    "\n",
    "\n",
    "\n",
    "#ctrl+enter: to execute whole code wriiten in the cell\n",
    "#Change in [] bracket\n",
    "\n",
    "#ctrl+eneter :execute\n",
    "#shift+enter:execute and change cells"
   ]
  },
  {
   "cell_type": "code",
   "execution_count": 25,
   "id": "1df5b86f-ffaa-4794-9de8-2bcd3d219cd0",
   "metadata": {},
   "outputs": [],
   "source": [
    "# add cell above: a\n",
    "# add cell below: b  .....................in command mode only press ctrl+enter then press these\n",
    "# dd is for deleting"
   ]
  },
  {
   "cell_type": "markdown",
   "id": "d3d99a2e-c0b6-469f-bfc3-d4940bd67ee2",
   "metadata": {},
   "source": [
    "# MARKDOWN: TO ADD TEXT, HEADINGS\n",
    "## Add hashtags to decrease size\n",
    "## Italics?\n",
    "# ARITHMETICS\n",
    "\n",
    "ADD +\n",
    "\n",
    "SUB -\n",
    "\n",
    "MULTIPLY *\n",
    "\n",
    "DIVIDE /\n",
    "\n",
    "EXPONENTIATION  **\n",
    "\n",
    "POWER pow(2,3) 2 to the power three\n",
    "\n",
    "QUOTIENT //: 10//7=1\n",
    "\n",
    "REMAINDER % :10%7=3\n",
    "\n",
    "# Variables\n"
   ]
  },
  {
   "cell_type": "code",
   "execution_count": null,
   "id": "1a5f2759-55fd-4dd8-8c48-0f8138270ac4",
   "metadata": {},
   "outputs": [],
   "source": [
    "   "
   ]
  }
 ],
 "metadata": {
  "kernelspec": {
   "display_name": "Python 3 (ipykernel)",
   "language": "python",
   "name": "python3"
  },
  "language_info": {
   "codemirror_mode": {
    "name": "ipython",
    "version": 3
   },
   "file_extension": ".py",
   "mimetype": "text/x-python",
   "name": "python",
   "nbconvert_exporter": "python",
   "pygments_lexer": "ipython3",
   "version": "3.12.4"
  }
 },
 "nbformat": 4,
 "nbformat_minor": 5
}
